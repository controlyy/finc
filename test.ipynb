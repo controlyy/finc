{
 "cells": [
  {
   "cell_type": "code",
   "execution_count": 1,
   "metadata": {},
   "outputs": [],
   "source": [
    "import pandas as pd\n",
    "import utility.stock_efinc \n",
    "\n",
    "data = utility.stock_efinc.get_stock_1y_history('002281')"
   ]
  },
  {
   "cell_type": "code",
   "execution_count": 2,
   "metadata": {},
   "outputs": [
    {
     "name": "stdout",
     "output_type": "stream",
     "text": [
      "             open   high    low  close  volume    ma_5      ma_60\n",
      "date                                                             \n",
      "2022-09-05  18.07  18.13  17.76  17.83   37214     NaN        NaN\n",
      "2022-09-06  17.90  18.16  17.83  18.10   33089     NaN        NaN\n",
      "2022-09-07  18.14  18.39  17.98  18.10   40295     NaN        NaN\n",
      "2022-09-08  18.19  18.19  17.93  18.03   25820     NaN        NaN\n",
      "2022-09-09  18.01  18.02  17.66  17.77   37250  17.966        NaN\n",
      "...           ...    ...    ...    ...     ...     ...        ...\n",
      "2023-09-18  30.18  31.35  29.90  30.13  375750  31.216  31.253333\n",
      "2023-09-19  29.50  29.65  27.31  28.19  430066  30.484  31.114500\n",
      "2023-09-20  28.09  29.98  28.02  28.74  441057  29.872  31.017000\n",
      "2023-09-21  28.32  29.37  28.16  28.38  325873  29.100  30.908500\n",
      "2023-09-22  28.01  31.22  27.95  31.22  355229  29.332  30.813500\n",
      "\n",
      "[257 rows x 7 columns]\n"
     ]
    }
   ],
   "source": [
    "data['ma_5'] = data['close'].rolling(5).mean()\n",
    "data['ma_60'] = data['close'].rolling(60).mean()\n",
    "\n",
    "print(data)"
   ]
  },
  {
   "cell_type": "code",
   "execution_count": 3,
   "metadata": {},
   "outputs": [
    {
     "name": "stdout",
     "output_type": "stream",
     "text": [
      "4.530581039755318\n"
     ]
    }
   ],
   "source": [
    "import utility.ma\n",
    "\n",
    "dates = utility.ma.get_dates_5ma_cross_60ma(data)\n",
    "\n",
    "print(dates)\n"
   ]
  }
 ],
 "metadata": {
  "kernelspec": {
   "display_name": "Python 3",
   "language": "python",
   "name": "python3"
  },
  "language_info": {
   "codemirror_mode": {
    "name": "ipython",
    "version": 3
   },
   "file_extension": ".py",
   "mimetype": "text/x-python",
   "name": "python",
   "nbconvert_exporter": "python",
   "pygments_lexer": "ipython3",
   "version": "3.7.4"
  },
  "orig_nbformat": 4
 },
 "nbformat": 4,
 "nbformat_minor": 2
}
