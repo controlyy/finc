{
 "cells": [
  {
   "cell_type": "code",
   "execution_count": 1,
   "metadata": {},
   "outputs": [
    {
     "name": "stdout",
     "output_type": "stream",
     "text": [
      "                                 Open        High         Low       Close  \\\n",
      "Datetime                                                                    \n",
      "2023-09-11 15:59:00-04:00  179.475006  179.479996  179.309998  179.380005   \n",
      "\n",
      "                           Volume  Dividends  Stock Splits  \n",
      "Datetime                                                    \n",
      "2023-09-11 15:59:00-04:00       0        0.0           0.0  \n"
     ]
    }
   ],
   "source": [
    "import yfinance as yf\n",
    "df = yf.Ticker(\"AAPL\").history(interval=\"1m\", period = \"1m\")\n",
    "print(df)"
   ]
  },
  {
   "cell_type": "code",
   "execution_count": 2,
   "metadata": {},
   "outputs": [
    {
     "name": "stdout",
     "output_type": "stream",
     "text": [
      "179.3800048828125\n"
     ]
    }
   ],
   "source": [
    "import utility.stock\n",
    "\n",
    "print(utility.stock.get_latest_price('AAPL'))"
   ]
  },
  {
   "cell_type": "code",
   "execution_count": 6,
   "metadata": {},
   "outputs": [
    {
     "name": "stdout",
     "output_type": "stream",
     "text": [
      "                               Open      High       Low     Close     Volume  \\\n",
      "Date                                                                           \n",
      "2022-09-13 00:00:00+08:00  5.309803  5.441374  5.300405  5.356792   83613148   \n",
      "2022-09-14 00:00:00+08:00  5.291008  5.347395  5.272212  5.291008   53639121   \n",
      "2022-09-15 00:00:00+08:00  5.300405  5.403782  5.206427  5.234621   96289882   \n",
      "2022-09-16 00:00:00+08:00  5.225223  5.225223  5.046663  5.056061  103926826   \n",
      "2022-09-19 00:00:00+08:00  5.065458  5.121845  4.980878  5.074856   64072078   \n",
      "...                             ...       ...       ...       ...        ...   \n",
      "2023-09-05 00:00:00+08:00  7.680000  7.790000  7.600000  7.630000   80584492   \n",
      "2023-09-06 00:00:00+08:00  7.600000  7.630000  7.530000  7.580000   59054970   \n",
      "2023-09-07 00:00:00+08:00  7.600000  7.610000  7.500000  7.530000   45657868   \n",
      "2023-09-08 00:00:00+08:00  7.500000  7.540000  7.380000  7.400000   45982823   \n",
      "2023-09-11 00:00:00+08:00  7.490000  7.530000  7.410000  7.480000   55930456   \n",
      "\n",
      "                           Dividends  Stock Splits  \n",
      "Date                                                \n",
      "2022-09-13 00:00:00+08:00        0.0           0.0  \n",
      "2022-09-14 00:00:00+08:00        0.0           0.0  \n",
      "2022-09-15 00:00:00+08:00        0.0           0.0  \n",
      "2022-09-16 00:00:00+08:00        0.0           0.0  \n",
      "2022-09-19 00:00:00+08:00        0.0           0.0  \n",
      "...                              ...           ...  \n",
      "2023-09-05 00:00:00+08:00        0.0           0.0  \n",
      "2023-09-06 00:00:00+08:00        0.0           0.0  \n",
      "2023-09-07 00:00:00+08:00        0.0           0.0  \n",
      "2023-09-08 00:00:00+08:00        0.0           0.0  \n",
      "2023-09-11 00:00:00+08:00        0.0           0.0  \n",
      "\n",
      "[243 rows x 7 columns]\n"
     ]
    }
   ],
   "source": [
    "import yfinance as yf\n",
    "df = yf.Ticker(\"002027.sz\").history(interval='1d', period ='1y')\n",
    "print(df)"
   ]
  },
  {
   "cell_type": "code",
   "execution_count": 2,
   "metadata": {},
   "outputs": [
    {
     "name": "stdout",
     "output_type": "stream",
     "text": [
      "0.23567508219816916\n",
      "-0.06661495944940193\n",
      "-0.005096351583525005\n"
     ]
    }
   ],
   "source": [
    "import utility.stock\n",
    "\n",
    "print(utility.stock.get_1year_price_change('JPM'))\n",
    "print(utility.stock.get_1month_price_change('JPM'))\n",
    "print(utility.stock.get_1week_price_change('JPM'))"
   ]
  },
  {
   "cell_type": "code",
   "execution_count": 23,
   "metadata": {},
   "outputs": [
    {
     "name": "stdout",
     "output_type": "stream",
     "text": [
      "                                                        2022-12-31  \\\n",
      "Tax Effect Of Unusual Items                           -127466000.0   \n",
      "Tax Rate For Calcs                                          0.1564   \n",
      "Total Unusual Items                                   -815000000.0   \n",
      "Total Unusual Items Excluding Goodwill                -815000000.0   \n",
      "Net Income From Continuing Operation Net Minori...  138012000000.0   \n",
      "Reconciled Depreciation                              14606000000.0   \n",
      "Net Interest Income                                 218235000000.0   \n",
      "Interest Expense                                    135145000000.0   \n",
      "Interest Income                                     353380000000.0   \n",
      "Normalized Income                                   138699534000.0   \n",
      "Net Income From Continuing And Discontinued Ope...  138012000000.0   \n",
      "Diluted Average Shares                               26238022814.0   \n",
      "Basic Average Shares                                 26238022814.0   \n",
      "Diluted EPS                                                   5.26   \n",
      "Basic EPS                                                     5.26   \n",
      "Net Income Common Stockholders                      138012000000.0   \n",
      "Net Income                                          138012000000.0   \n",
      "Minority Interests                                   -1282000000.0   \n",
      "Net Income Including Noncontrolling Interests       139294000000.0   \n",
      "Net Income Continuous Operations                    139294000000.0   \n",
      "Tax Provision                                        25819000000.0   \n",
      "Pretax Income                                       165113000000.0   \n",
      "Other Non Operating Income Expenses                    -43000000.0   \n",
      "Special Income Charges                                -815000000.0   \n",
      "Write Off                                              815000000.0   \n",
      "Impairment Of Capital Assets                                   NaN   \n",
      "Gain On Sale Of Security                             15338000000.0   \n",
      "Operating Expense                                   122061000000.0   \n",
      "Other Operating Expenses                              8686000000.0   \n",
      "Selling General And Administration                  113375000000.0   \n",
      "General And Administrative Expense                  113375000000.0   \n",
      "Total Revenue                                       342258000000.0   \n",
      "Operating Revenue                                   342258000000.0   \n",
      "\n",
      "                                                        2021-12-31  \\\n",
      "Tax Effect Of Unusual Items                            -72508500.0   \n",
      "Tax Rate For Calcs                                          0.1845   \n",
      "Total Unusual Items                                   -393000000.0   \n",
      "Total Unusual Items Excluding Goodwill                -393000000.0   \n",
      "Net Income From Continuing Operation Net Minori...  119922000000.0   \n",
      "Reconciled Depreciation                              13531000000.0   \n",
      "Net Interest Income                                 203919000000.0   \n",
      "Interest Expense                                    123137000000.0   \n",
      "Interest Income                                     327056000000.0   \n",
      "Normalized Income                                   120242491500.0   \n",
      "Net Income From Continuing And Discontinued Ope...  119922000000.0   \n",
      "Diluted Average Shares                               26013449024.0   \n",
      "Basic Average Shares                                 26013449024.0   \n",
      "Diluted EPS                                                   4.61   \n",
      "Basic EPS                                                     4.61   \n",
      "Net Income Common Stockholders                      119922000000.0   \n",
      "Net Income                                          119922000000.0   \n",
      "Minority Interests                                    -912000000.0   \n",
      "Net Income Including Noncontrolling Interests       120834000000.0   \n",
      "Net Income Continuous Operations                    120834000000.0   \n",
      "Tax Provision                                        27339000000.0   \n",
      "Pretax Income                                       148173000000.0   \n",
      "Other Non Operating Income Expenses                    154000000.0   \n",
      "Special Income Charges                                -393000000.0   \n",
      "Write Off                                              393000000.0   \n",
      "Impairment Of Capital Assets                                   NaN   \n",
      "Gain On Sale Of Security                             17914000000.0   \n",
      "Operating Expense                                   116879000000.0   \n",
      "Other Operating Expenses                              7152000000.0   \n",
      "Selling General And Administration                  109727000000.0   \n",
      "General And Administrative Expense                  109727000000.0   \n",
      "Total Revenue                                       327223000000.0   \n",
      "Operating Revenue                                   327223000000.0   \n",
      "\n",
      "                                                            2020-12-31  \\\n",
      "Tax Effect Of Unusual Items                           -30791195.687684   \n",
      "Tax Rate For Calcs                                            0.199943   \n",
      "Total Unusual Items                                       -154000000.0   \n",
      "Total Unusual Items Excluding Goodwill                    -154000000.0   \n",
      "Net Income From Continuing Operation Net Minori...       97342000000.0   \n",
      "Reconciled Depreciation                                  12712000000.0   \n",
      "Net Interest Income                                     185031000000.0   \n",
      "Interest Expense                                        122394000000.0   \n",
      "Interest Income                                         307425000000.0   \n",
      "Normalized Income                                   97465208804.312317   \n",
      "Net Income From Continuing And Discontinued Ope...       97342000000.0   \n",
      "Diluted Average Shares                                   25683905013.0   \n",
      "Basic Average Shares                                     25683905013.0   \n",
      "Diluted EPS                                                       3.79   \n",
      "Basic EPS                                                         3.79   \n",
      "Net Income Common Stockholders                           97342000000.0   \n",
      "Net Income                                               97342000000.0   \n",
      "Minority Interests                                        -617000000.0   \n",
      "Net Income Including Noncontrolling Interests            97959000000.0   \n",
      "Net Income Continuous Operations                         97959000000.0   \n",
      "Tax Provision                                            24481000000.0   \n",
      "Pretax Income                                           122440000000.0   \n",
      "Other Non Operating Income Expenses                       -203000000.0   \n",
      "Special Income Charges                                    -154000000.0   \n",
      "Write Off                                                  154000000.0   \n",
      "Impairment Of Capital Assets                                       NaN   \n",
      "Gain On Sale Of Security                                 14621000000.0   \n",
      "Operating Expense                                       102814000000.0   \n",
      "Other Operating Expenses                                  6069000000.0   \n",
      "Selling General And Administration                       96745000000.0   \n",
      "General And Administrative Expense                       96745000000.0   \n",
      "Total Revenue                                           287601000000.0   \n",
      "Operating Revenue                                       287601000000.0   \n",
      "\n",
      "                                                        2019-12-31  \n",
      "Tax Effect Of Unusual Items                            -18823200.0  \n",
      "Tax Rate For Calcs                                          0.2024  \n",
      "Total Unusual Items                                    -93000000.0  \n",
      "Total Unusual Items Excluding Goodwill                 -93000000.0  \n",
      "Net Income From Continuing Operation Net Minori...   92867000000.0  \n",
      "Reconciled Depreciation                              11323000000.0  \n",
      "Net Interest Income                                 173090000000.0  \n",
      "Interest Expense                                    119904000000.0  \n",
      "Interest Income                                     292994000000.0  \n",
      "Normalized Income                                    92941176800.0  \n",
      "Net Income From Continuing And Discontinued Ope...   92867000000.0  \n",
      "Diluted Average Shares                               25653867403.0  \n",
      "Basic Average Shares                                 25653867403.0  \n",
      "Diluted EPS                                                   3.62  \n",
      "Basic EPS                                                     3.62  \n",
      "Net Income Common Stockholders                       92867000000.0  \n",
      "Net Income                                           92867000000.0  \n",
      "Minority Interests                                    -556000000.0  \n",
      "Net Income Including Noncontrolling Interests        93423000000.0  \n",
      "Net Income Continuous Operations                     93423000000.0  \n",
      "Tax Provision                                        23709000000.0  \n",
      "Pretax Income                                       117132000000.0  \n",
      "Other Non Operating Income Expenses                     85000000.0  \n",
      "Special Income Charges                                 -93000000.0  \n",
      "Write Off                                               93000000.0  \n",
      "Impairment Of Capital Assets                            93000000.0  \n",
      "Gain On Sale Of Security                             14432000000.0  \n",
      "Operating Expense                                    91497000000.0  \n",
      "Other Operating Expenses                              4956000000.0  \n",
      "Selling General And Administration                   86541000000.0  \n",
      "General And Administrative Expense                   86541000000.0  \n",
      "Total Revenue                                       267980000000.0  \n",
      "Operating Revenue                                   267980000000.0  \n"
     ]
    }
   ],
   "source": [
    "import yfinance as yf\n",
    "print(yf.Ticker(\"600036.ss\").financials)\n"
   ]
  },
  {
   "cell_type": "code",
   "execution_count": 38,
   "metadata": {},
   "outputs": [
    {
     "data": {
      "text/plain": [
       "股票代码                   600036\n",
       "股票名称                     招商银行\n",
       "净利润             75752000000.0\n",
       "总市值        832759301745.02002\n",
       "流通市值      681167745045.580078\n",
       "所处行业                       银行\n",
       "市盈率(动)                    5.5\n",
       "市净率                      0.97\n",
       "ROE                      8.78\n",
       "毛利率                       0.0\n",
       "净利率                 42.831447\n",
       "板块编号                   BK0475\n",
       "dtype: object"
      ]
     },
     "execution_count": 38,
     "metadata": {},
     "output_type": "execute_result"
    }
   ],
   "source": [
    "import efinance as ef\n",
    "ef.stock.get_base_info('600036')"
   ]
  },
  {
   "cell_type": "code",
   "execution_count": 40,
   "metadata": {},
   "outputs": [
    {
     "name": "stdout",
     "output_type": "stream",
     "text": [
      "2023_09_11_22_10_53\n"
     ]
    }
   ],
   "source": [
    "from datetime import datetime\n",
    "\n",
    "dt_string = datetime.now().strftime(\"%Y_%m_%d_%H_%M_%S\")\n",
    "print(dt_string)"
   ]
  }
 ],
 "metadata": {
  "kernelspec": {
   "display_name": "Python 3",
   "language": "python",
   "name": "python3"
  },
  "language_info": {
   "codemirror_mode": {
    "name": "ipython",
    "version": 3
   },
   "file_extension": ".py",
   "mimetype": "text/x-python",
   "name": "python",
   "nbconvert_exporter": "python",
   "pygments_lexer": "ipython3",
   "version": "3.7.4"
  },
  "orig_nbformat": 4
 },
 "nbformat": 4,
 "nbformat_minor": 2
}
