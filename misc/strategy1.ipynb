{
 "cells": [
  {
   "cell_type": "code",
   "execution_count": 1,
   "metadata": {},
   "outputs": [
    {
     "name": "stdout",
     "output_type": "stream",
     "text": [
      "[*********************100%***********************]  1 of 1 completed\n"
     ]
    }
   ],
   "source": [
    "import utility.stock\n",
    "\n",
    "data = utility.stock.get_stock_history('AAPL','1y')"
   ]
  },
  {
   "cell_type": "code",
   "execution_count": 2,
   "metadata": {},
   "outputs": [
    {
     "name": "stdout",
     "output_type": "stream",
     "text": [
      "DatetimeIndex(['2022-10-13', '2022-11-10', '2022-12-01', '2022-12-02',\n",
      "               '2023-01-06', '2023-03-08', '2023-03-15', '2023-04-28',\n",
      "               '2023-05-18', '2023-05-30', '2023-07-19', '2023-07-31',\n",
      "               '2023-08-23'],\n",
      "              dtype='datetime64[ns]', name='date', freq=None)\n",
      "DatetimeIndex(['2022-09-13', '2022-11-04', '2022-11-29', '2023-02-21',\n",
      "               '2023-04-11', '2023-04-20', '2023-05-02', '2023-05-16',\n",
      "               '2023-05-22', '2023-06-26', '2023-07-10', '2023-09-11'],\n",
      "              dtype='datetime64[ns]', name='date', freq=None)\n",
      "0.09196519927978515\n",
      "0.09690508728027344\n"
     ]
    }
   ],
   "source": [
    "import pandas as pd\n",
    "import utility.macd\n",
    "import utility.return_cal\n",
    "import utility.rsi\n",
    "\n",
    "#macd['pos'] = macd['histogram'] > 0\n",
    "#macd['pos_shift'] = macd['pos'].shift(1)\n",
    "#macd['golden_cross'] = (macd['pos'] > 0) & (macd['pos'] ^ macd['pos_shift'])\n",
    "#macd['death_cross'] = (macd['pos'] <= 0) & (macd['pos'] ^ macd['pos_shift'])\n",
    "\n",
    "golden_cross = utility.macd.get_golden_cross_date(data)\n",
    "death_cross = utility.macd.get_death_cross_date(data)\n",
    "#\n",
    "#print(golden_cross)\n",
    "#print(death_cross)\n",
    "#\n",
    "new_in_date = utility.macd.get_predicted_1_day_golden_cross_date(data)\n",
    "print(new_in_date)\n",
    "\n",
    "print(death_cross)\n",
    "\n",
    "rsi = utility.rsi.calculate_rsi(data)\n",
    "\n",
    "new_date = pd.DataFrame()\n",
    "for i in range(0, len(new_in_date)):\n",
    "    #print(\"date: \" + str(new_in_date[i]))\n",
    "    #print(\"rsi: \" + str(rsi['rsi'][new_in_date[i]]))\n",
    "    if rsi['rsi'][new_in_date[i]] < 50:\n",
    "        #print(\"in date: \" + str(new_in_date[i]))\n",
    "        #new_date = new_date.append(new_in_date[i])\n",
    "        new_row = {'date':new_in_date[i]}\n",
    "        new_date = new_date.append(new_row, ignore_index=True)\n",
    "\n",
    "\n",
    "new_date = new_date.set_index('date')\n",
    "#print(new_date)\n",
    "return_rate = utility.return_cal.calculate_return_rate(data, new_date.index,death_cross)\n",
    "print(return_rate)\n",
    "\n",
    "return_rate = utility.return_cal.calculate_return_rate(data, golden_cross,death_cross)\n",
    "print(return_rate)\n",
    "\n",
    "#macd.to_csv('test.csv')\n"
   ]
  }
 ],
 "metadata": {
  "kernelspec": {
   "display_name": "Python 3",
   "language": "python",
   "name": "python3"
  },
  "language_info": {
   "codemirror_mode": {
    "name": "ipython",
    "version": 3
   },
   "file_extension": ".py",
   "mimetype": "text/x-python",
   "name": "python",
   "nbconvert_exporter": "python",
   "pygments_lexer": "ipython3",
   "version": "3.7.4"
  },
  "orig_nbformat": 4
 },
 "nbformat": 4,
 "nbformat_minor": 2
}
