{
 "cells": [
  {
   "cell_type": "code",
   "execution_count": 2,
   "metadata": {},
   "outputs": [
    {
     "name": "stdout",
     "output_type": "stream",
     "text": [
      "[*********************100%***********************]  1 of 1 completed\n"
     ]
    }
   ],
   "source": [
    "import utility.stock\n",
    "\n",
    "data = utility.stock.get_stock_history('AAPL','1y')"
   ]
  },
  {
   "cell_type": "code",
   "execution_count": 5,
   "metadata": {},
   "outputs": [
    {
     "name": "stdout",
     "output_type": "stream",
     "text": [
      "                 close  close_shift      gain      loss  avg_gain  avg_loss  \\\n",
      "date                                                                          \n",
      "2022-09-09  157.369995          NaN       NaN       NaN       NaN       NaN   \n",
      "2022-09-12  163.429993   157.369995  6.059998  0.000000       NaN       NaN   \n",
      "2022-09-13  153.839996   163.429993  0.000000  9.589996       NaN       NaN   \n",
      "2022-09-14  155.309998   153.839996  1.470001  0.000000       NaN       NaN   \n",
      "2022-09-15  152.369995   155.309998  0.000000  2.940002       NaN       NaN   \n",
      "...                ...          ...       ...       ...       ...       ...   \n",
      "2023-09-01  189.460007   187.869995  1.590012  0.000000  1.258792  0.773167   \n",
      "2023-09-05  189.699997   189.460007  0.239990  0.000000  1.186021  0.717941   \n",
      "2023-09-06  182.910004   189.699997  0.000000  6.789993  1.101305  1.151659   \n",
      "2023-09-07  177.559998   182.910004  0.000000  5.350006  1.022640  1.451541   \n",
      "2023-09-08  178.179993   177.559998  0.619995  0.000000  0.993880  1.347859   \n",
      "\n",
      "                  rs        rsi  \n",
      "date                             \n",
      "2022-09-09       NaN        NaN  \n",
      "2022-09-12       NaN        NaN  \n",
      "2022-09-13       NaN        NaN  \n",
      "2022-09-14       NaN        NaN  \n",
      "2022-09-15       NaN        NaN  \n",
      "...              ...        ...  \n",
      "2023-09-01  1.628099  61.949690  \n",
      "2023-09-05  1.651976  62.292273  \n",
      "2023-09-06  0.956277  48.882503  \n",
      "2023-09-07  0.704521  41.332481  \n",
      "2023-09-08  0.737377  42.441961  \n",
      "\n",
      "[251 rows x 8 columns]\n"
     ]
    }
   ],
   "source": [
    "import pandas as pd\n",
    "\n",
    "period = 14\n",
    "\n",
    "rsi = pd.DataFrame()\n",
    "rsi['close'] = data['Close']\n",
    "rsi = rsi.reset_index()\n",
    "rsi = rsi.rename(columns={\"Date\": \"date\"})\n",
    "\n",
    "if len(rsi.index) <= period:\n",
    "    print(\"Error: Data size too small\")\n",
    "\n",
    "rsi['close_shift'] = rsi['close'].shift(1)\n",
    "rsi['gain'] = rsi['close'] - rsi['close_shift']\n",
    "rsi['loss'] = rsi['close_shift'] - rsi['close']\n",
    "rsi['gain'] = rsi['gain'].clip(lower=0)\n",
    "rsi['loss'] = rsi['loss'].clip(lower=0)\n",
    "\n",
    "rsi.loc[period,'avg_gain'] = rsi['gain'].iloc[1:period+1].mean()\n",
    "rsi.loc[period,'avg_loss'] = rsi['loss'].iloc[1:period+1].mean()\n",
    "\n",
    "for i in range(period + 1, len(rsi)):\n",
    "    rsi.loc[i,'avg_gain'] = (rsi.loc[i-1,'avg_gain'] * (period -1) + rsi.loc[i,'gain'])/ period\n",
    "    rsi.loc[i,'avg_loss'] = (rsi.loc[i-1,'avg_loss'] * (period -1) + rsi.loc[i,'loss'])/ period\n",
    "\n",
    "rsi['rs'] = rsi['avg_gain']/rsi['avg_loss']\n",
    "rsi['rsi'] = 100-(100/(1 + rsi['rs']))\n",
    "\n",
    "rsi = rsi.set_index('date')\n",
    "#rsi = rsi.dropna()\n",
    "#rsi = rsi.drop(columns=['close', 'close_shift', 'gain','loss','avg_gain','avg_loss','rs'])\n",
    "\n",
    "print(rsi)\n",
    "rsi.to_csv('test2.csv')"
   ]
  }
 ],
 "metadata": {
  "kernelspec": {
   "display_name": "Python 3",
   "language": "python",
   "name": "python3"
  },
  "language_info": {
   "codemirror_mode": {
    "name": "ipython",
    "version": 3
   },
   "file_extension": ".py",
   "mimetype": "text/x-python",
   "name": "python",
   "nbconvert_exporter": "python",
   "pygments_lexer": "ipython3",
   "version": "3.7.4"
  },
  "orig_nbformat": 4
 },
 "nbformat": 4,
 "nbformat_minor": 2
}
